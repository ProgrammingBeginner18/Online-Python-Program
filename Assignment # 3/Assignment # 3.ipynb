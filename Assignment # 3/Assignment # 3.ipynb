{
 "cells": [
  {
   "cell_type": "code",
   "execution_count": 4,
   "id": "53f967b8",
   "metadata": {},
   "outputs": [
    {
     "name": "stdout",
     "output_type": "stream",
     "text": [
      "Twinkle,twinkle,little star,\n",
      "\tHow I wonder what you are!\n",
      "\t\tUp above the world so high,\n",
      "\t\tLike a diamond in the sky.\n",
      "Twinkle,twinkle,little star,\n",
      "How I wonder what ou are\n"
     ]
    }
   ],
   "source": [
    "#Question No.1\n",
    "print(\"Twinkle,twinkle,little star,\\n\\tHow I wonder what you are!\\n\\t\\tUp above the world so high,\\n\\t\\tLike a diamond in the sky.\\nTwinkle,twinkle,little star,\\nHow I wonder what ou are\")"
   ]
  },
  {
   "cell_type": "code",
   "execution_count": 7,
   "id": "75061da7",
   "metadata": {},
   "outputs": [
    {
     "name": "stdout",
     "output_type": "stream",
     "text": [
      "Current Version of Python is 3.9\n"
     ]
    }
   ],
   "source": [
    "#Question No. 2\n",
    "current_version_of_python = 3.9\n",
    "print(\"Current Version of Python is\",current_version_of_python)"
   ]
  },
  {
   "cell_type": "code",
   "execution_count": 10,
   "id": "226bfe15",
   "metadata": {},
   "outputs": [
    {
     "name": "stdout",
     "output_type": "stream",
     "text": [
      "Enter Current Date 24/10/2021\n",
      "Enter Current Time 15:24:50\n",
      "Current Date = 24/10/2021\n",
      "Current Time = 15:24:50\n"
     ]
    }
   ],
   "source": [
    "#Question No. 3\n",
    "Date = input(\"Enter Current Date \")\n",
    "Time = input(\"Enter Current Time \")\n",
    "print(\"Current Date =\",Date)\n",
    "print(\"Current Time =\",Time)"
   ]
  },
  {
   "cell_type": "code",
   "execution_count": 12,
   "id": "a2e67d4b",
   "metadata": {},
   "outputs": [
    {
     "name": "stdout",
     "output_type": "stream",
     "text": [
      "Enter Radius of The Circle 7\n",
      "Area of The Circle is 153.86\n"
     ]
    }
   ],
   "source": [
    "#Question No.4\n",
    "Radius = int(input(\"Enter Radius of The Circle \"))\n",
    "Area = 3.14 * (Radius **  2)\n",
    "print(\"Area of The Circle is\",Area)"
   ]
  },
  {
   "cell_type": "code",
   "execution_count": 15,
   "id": "ecd8d324",
   "metadata": {},
   "outputs": [
    {
     "name": "stdout",
     "output_type": "stream",
     "text": [
      "Enter Fist Name Muhammad\n",
      "Enter Last Name Haseeb\n",
      "Haseeb Muhammad\n"
     ]
    }
   ],
   "source": [
    "#Question No. 5\n",
    "First_Name = input(\"Enter First Name \")\n",
    "Last_Name = input(\"Enter Last Name \")\n",
    "Full_Name = Last_Name + \" \" + First_Name\n",
    "print(Full_Name)"
   ]
  },
  {
   "cell_type": "code",
   "execution_count": 17,
   "id": "df7a71e9",
   "metadata": {},
   "outputs": [
    {
     "name": "stdout",
     "output_type": "stream",
     "text": [
      "Enter First Value 15\n",
      "Enter Second Value 42\n",
      "57\n"
     ]
    }
   ],
   "source": [
    "#Question No. 6\n",
    "x = int(input(\"Enter First Value \"))\n",
    "y = int(input(\"Enter Second Value \"))\n",
    "z = x + y\n",
    "print(z)"
   ]
  },
  {
   "cell_type": "code",
   "execution_count": 26,
   "id": "35479193",
   "metadata": {},
   "outputs": [
    {
     "name": "stdout",
     "output_type": "stream",
     "text": [
      "Enter English Marks 90\n",
      "Enter Urdu Marks 90\n",
      "Enter Maths Marks 90\n",
      "Enter Islamiyat Marks 90\n",
      "Enter Computer Science Marks 90\n",
      "Total Marks = 500\n",
      "Obtained Marks = 450\n",
      "Grade A+\n"
     ]
    }
   ],
   "source": [
    "#Question No. 7\n",
    "English = int(input(\"Enter English Marks \"))\n",
    "Urdu = int(input(\"Enter Urdu Marks \"))\n",
    "Maths = int(input(\"Enter Maths Marks \"))\n",
    "Islamiyat = int(input(\"Enter Islamiyat Marks \"))\n",
    "Computer_Science = int(input(\"Enter Computer Science Marks \"))\n",
    "Total_Marks = 500\n",
    "print(\"Total Marks =\",Total_Marks)\n",
    "Obtained_Marks = English + Urdu + Maths + Islamiyat + Computer_Science\n",
    "print(\"Obtained Marks =\",Obtained_Marks)\n",
    "Percentage = (Obtained_Marks / Total_Marks) * 100\n",
    "if Percentage <= 100 and Percentage >= 80:\n",
    "    print(\"Grade A+\");\n",
    "elif Percentage < 80 and Percentage >= 70:\n",
    "    print(\"Grade A\");\n",
    "elif Percentage < 70 and Percentage >= 60:\n",
    "    print(\"Grade B\");\n",
    "elif Percentage < 60 and Percentage >= 50:\n",
    "    print(\"Grade C\");\n",
    "elif Percentage < 50 and Percentage >= 40:\n",
    "    print(\"Grade D\");\n",
    "elif Percentage < 40 and Percentage >= 33:\n",
    "    print(\"Grade E\");\n",
    "elif Percentage > 33:\n",
    "    print(\"Fail\");\n",
    "elif Percentage > 100 and Percentage < 0:\n",
    "    print(\"Enter Correct Marks\");\n",
    "    "
   ]
  },
  {
   "cell_type": "code",
   "execution_count": 31,
   "id": "d6685e11",
   "metadata": {},
   "outputs": [
    {
     "name": "stdout",
     "output_type": "stream",
     "text": [
      "Enter Number 76\n",
      "Number is Even\n"
     ]
    }
   ],
   "source": [
    "#Question No. 8\n",
    "Number = int(input(\"Enter Number \"))\n",
    "if Number / 2:\n",
    "    print(\"Number is Even\");\n",
    "else:\n",
    "    print(\"Number is Odd\");"
   ]
  },
  {
   "cell_type": "code",
   "execution_count": 34,
   "id": "e42db327",
   "metadata": {},
   "outputs": [
    {
     "name": "stdout",
     "output_type": "stream",
     "text": [
      "3\n"
     ]
    }
   ],
   "source": [
    "#Question No. 9\n",
    "arr = [\"Ali\",\"Ahmad\",\"Abdullah\"]\n",
    "print(len(arr))"
   ]
  },
  {
   "cell_type": "code",
   "execution_count": 40,
   "id": "b9d475e3",
   "metadata": {},
   "outputs": [
    {
     "name": "stdout",
     "output_type": "stream",
     "text": [
      "317\n"
     ]
    }
   ],
   "source": [
    "#Question No. 10\n",
    "arr1 = [86,32,54,45,24,76]\n",
    "sum(arr1)\n",
    "print(sum(arr1))"
   ]
  },
  {
   "cell_type": "code",
   "execution_count": 41,
   "id": "0533efa5",
   "metadata": {},
   "outputs": [
    {
     "name": "stdout",
     "output_type": "stream",
     "text": [
      "The largest Number is 86\n"
     ]
    }
   ],
   "source": [
    "#Question No. 11\n",
    "arr1 = [86,32,54,45,24,76]\n",
    "print(\"The largest Number is\",arr1[0])"
   ]
  },
  {
   "cell_type": "code",
   "execution_count": 48,
   "id": "b24d8181",
   "metadata": {},
   "outputs": [
    {
     "name": "stdout",
     "output_type": "stream",
     "text": [
      "[1, 1, 2, 3]\n"
     ]
    }
   ],
   "source": [
    "#Question No. 12\n",
    "a =[1,1,2,3,5,8,13,21,34,55,89]\n",
    "b = a[0:4]\n",
    "print(b)"
   ]
  },
  {
   "cell_type": "code",
   "execution_count": null,
   "id": "284ec049",
   "metadata": {},
   "outputs": [],
   "source": []
  },
  {
   "cell_type": "code",
   "execution_count": null,
   "id": "5db9fba4",
   "metadata": {},
   "outputs": [],
   "source": []
  }
 ],
 "metadata": {
  "kernelspec": {
   "display_name": "Python 3",
   "language": "python",
   "name": "python3"
  },
  "language_info": {
   "codemirror_mode": {
    "name": "ipython",
    "version": 3
   },
   "file_extension": ".py",
   "mimetype": "text/x-python",
   "name": "python",
   "nbconvert_exporter": "python",
   "pygments_lexer": "ipython3",
   "version": "3.8.8"
  }
 },
 "nbformat": 4,
 "nbformat_minor": 5
}
